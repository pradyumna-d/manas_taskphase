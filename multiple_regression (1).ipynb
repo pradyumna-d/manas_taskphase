{
 "cells": [
  {
   "cell_type": "code",
   "execution_count": 1,
   "id": "e22f5e40",
   "metadata": {},
   "outputs": [],
   "source": [
    "import numpy as np\n",
    "import matplotlib.pyplot as plt\n",
    "import pandas as pd\n",
    "import math"
   ]
  },
  {
   "cell_type": "code",
   "execution_count": 2,
   "id": "1d9c2a83",
   "metadata": {},
   "outputs": [],
   "source": [
    "dataset = pd.read_csv(\"linear_regression_dataset.csv\")\n",
    "x = dataset.iloc[:, :].values\n",
    "x = pd.DataFrame(x)\n",
    "x = x.drop(4, axis=1)\n",
    "x = np.array(x)\n",
    "x = np.nan_to_num(x)\n",
    "y = dataset.iloc[:, -2].values"
   ]
  },
  {
   "cell_type": "code",
   "execution_count": 3,
   "id": "d33509cd",
   "metadata": {},
   "outputs": [
    {
     "data": {
      "text/plain": [
       "(400, 1)"
      ]
     },
     "execution_count": 3,
     "metadata": {},
     "output_type": "execute_result"
    }
   ],
   "source": [
    "x = np.vstack((np.ones((x.shape[0], )), x.T)).T\n",
    "from sklearn.model_selection import train_test_split\n",
    "x_train, x_test, y_train, y_test = train_test_split(x, y, test_size=0.2, random_state=0)\n",
    "y_train = np.reshape(y_train, (y_train.shape[0],1))\n",
    "x_test.shape\n",
    "y_train.shape"
   ]
  },
  {
   "cell_type": "code",
   "execution_count": 4,
   "id": "09ec7216",
   "metadata": {},
   "outputs": [],
   "source": [
    "def linear_model(x, y, learning_rate, iteration):\n",
    "  m = x.shape[0]\n",
    "  theta = np.zeros((x.shape[1], 1))\n",
    "  cost_list = []\n",
    "  for i in range(iteration):\n",
    "    y_pred = np.dot(x, theta)\n",
    "    print()\n",
    "    #cost function\n",
    "    cost = (1/(2*m))*np.sum((y_pred - y)**2)\n",
    "    #gradient descent\n",
    "    d_theta = (1/m) * x.T.dot(y_pred - y)\n",
    "    theta = theta - learning_rate * d_theta\n",
    "    cost_list.append(cost)\n",
    "  return theta, cost_list"
   ]
  },
  {
   "cell_type": "code",
   "execution_count": 5,
   "id": "2d54d57f",
   "metadata": {},
   "outputs": [
    {
     "name": "stdout",
     "output_type": "stream",
     "text": [
      "\n",
      "\n"
     ]
    }
   ],
   "source": [
    "theta, cost_list = linear_model(x_train, y_train, learning_rate=0.00000009, iteration=2000)"
   ]
  },
  {
   "cell_type": "code",
   "execution_count": 6,
   "id": "396c5353",
   "metadata": {},
   "outputs": [
    {
     "data": {
      "text/plain": [
       "<function matplotlib.pyplot.show(close=None, block=None)>"
      ]
     },
     "execution_count": 6,
     "metadata": {},
     "output_type": "execute_result"
    },
    {
     "data": {
      "image/png": "[encoded data removed]",
      "text/plain": [
       "<Figure size 432x288 with 1 Axes>"
      ]
     },
     "metadata": {
      "needs_background": "light"
     },
     "output_type": "display_data"
    }
   ],
   "source": [
    "range = np.arange(0, 2000) \n",
    "\n",
    "plt.plot(range, cost_list)\n",
    "plt.show"
   ]
  },
  {
   "cell_type": "code",
   "execution_count": 7,
   "id": "93aa2df7",
   "metadata": {},
   "outputs": [
    {
     "name": "stdout",
     "output_type": "stream",
     "text": [
      "(100, 1)\n",
      "(100,)\n",
      "(100, 6)\n"
     ]
    }
   ],
   "source": [
    "predictions = np.dot(x_test, theta)\n",
    "print(predictions.shape)\n",
    "print(y_test.shape)\n",
    "print(x_test.shape)"
   ]
  },
  {
   "cell_type": "code",
   "execution_count": 8,
   "id": "b2df40ce",
   "metadata": {},
   "outputs": [
    {
     "data": {
      "text/plain": [
       "array([[ 532.83521938],\n",
       "       [2368.92491022],\n",
       "       [2368.94605106],\n",
       "       [2796.88466559],\n",
       "       [2368.92491022],\n",
       "       [2824.32716039],\n",
       "       [2826.02777329],\n",
       "       [2368.92491022],\n",
       "       [2368.92491022],\n",
       "       [2368.92491022],\n",
       "       [2370.83433265],\n",
       "       [2370.81319182],\n",
       "       [2368.92491022],\n",
       "       [2370.83433265],\n",
       "       [2368.92491022],\n",
       "       [ 218.14416423],\n",
       "       [2690.3467587 ],\n",
       "       [2368.94605106],\n",
       "       [2368.94605106],\n",
       "       [2810.50293882],\n",
       "       [2809.79419555],\n",
       "       [2376.4780366 ],\n",
       "       [2370.83433265],\n",
       "       [2368.92491022],\n",
       "       [2804.91944605],\n",
       "       [2802.82235492],\n",
       "       [2113.1460014 ],\n",
       "       [2374.69224785],\n",
       "       [2368.92491022],\n",
       "       [2370.83433265],\n",
       "       [2807.02410926],\n",
       "       [2372.72261425],\n",
       "       [2801.97204847],\n",
       "       [2806.80772764],\n",
       "       [2370.81319182],\n",
       "       [2824.43472649],\n",
       "       [2793.64614381],\n",
       "       [2346.75364316],\n",
       "       [2368.94605106],\n",
       "       [2368.92491022],\n",
       "       [1195.1928593 ],\n",
       "       [2803.8814709 ],\n",
       "       [2367.03662863],\n",
       "       [2368.92491022],\n",
       "       [2370.83433265],\n",
       "       [2804.12935077],\n",
       "       [2370.81319182],\n",
       "       [1281.74558994],\n",
       "       [2368.92491022],\n",
       "       [2368.92491022],\n",
       "       [2370.81319182],\n",
       "       [2368.92491022],\n",
       "       [ 221.27923051],\n",
       "       [2368.92491022],\n",
       "       [2805.5820838 ],\n",
       "       [2794.68411896],\n",
       "       [2822.6265475 ],\n",
       "       [2372.72261425],\n",
       "       [2794.93199883],\n",
       "       [ 200.87392414],\n",
       "       [2368.94605106],\n",
       "       [2368.83848496],\n",
       "       [2370.81319182],\n",
       "       [2368.92491022],\n",
       "       [3537.58809351],\n",
       "       [2370.83433265],\n",
       "       [2822.6265475 ],\n",
       "       [2370.83433265],\n",
       "       [2368.94605106],\n",
       "       [2370.81319182],\n",
       "       [2368.94605106],\n",
       "       [2803.6938022 ],\n",
       "       [2791.75786222],\n",
       "       [2370.81319182],\n",
       "       [2370.81319182],\n",
       "       [2368.94605106],\n",
       "       [2370.81319182],\n",
       "       [2368.92491022],\n",
       "       [2368.92491022],\n",
       "       [3021.12997594],\n",
       "       [1570.6977719 ],\n",
       "       [2319.08023533],\n",
       "       [2798.93947504],\n",
       "       [2368.94605106],\n",
       "       [2832.26590599],\n",
       "       [ 436.47388874],\n",
       "       [2368.92491022],\n",
       "       [2367.05776946],\n",
       "       [ 513.92889909],\n",
       "       [2803.67266136],\n",
       "       [2808.59351639],\n",
       "       [2321.20478996],\n",
       "       [2368.94605106],\n",
       "       [2368.92491022],\n",
       "       [2816.56522448],\n",
       "       [2312.52447392],\n",
       "       [ 923.26817418],\n",
       "       [ 777.34669589],\n",
       "       [2799.14828458],\n",
       "       [2792.60816867]])"
      ]
     },
     "execution_count": 8,
     "metadata": {},
     "output_type": "execute_result"
    }
   ],
   "source": [
    "predictions"
   ]
  },
  {
   "cell_type": "code",
   "execution_count": null,
   "id": "a4474017",
   "metadata": {},
   "outputs": [],
   "source": []
  },
  {
   "cell_type": "code",
   "execution_count": null,
   "id": "9ee2e14d",
   "metadata": {},
   "outputs": [],
   "source": []
  },
  {
   "cell_type": "code",
   "execution_count": null,
   "id": "a5eba13e",
   "metadata": {},
   "outputs": [],
   "source": []
  },
  {
   "cell_type": "code",
   "execution_count": null,
   "id": "01488e39",
   "metadata": {},
   "outputs": [],
   "source": []
  },
  {
   "cell_type": "code",
   "execution_count": null,
   "id": "0fc90af0",
   "metadata": {},
   "outputs": [],
   "source": []
  }
 ],
 "metadata": {
  "kernelspec": {
   "display_name": "Python 3",
   "language": "python",
   "name": "python3"
  },
  "language_info": {
   "codemirror_mode": {
    "name": "ipython",
    "version": 3
   },
   "file_extension": ".py",
   "mimetype": "text/x-python",
   "name": "python",
   "nbconvert_exporter": "python",
   "pygments_lexer": "ipython3",
   "version": "3.8.8"
  }
 },
 "nbformat": 4,
 "nbformat_minor": 5
}
